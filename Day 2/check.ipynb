{
 "cells": [
  {
   "cell_type": "code",
   "execution_count": 7,
   "metadata": {},
   "outputs": [
    {
     "name": "stdout",
     "output_type": "stream",
     "text": [
      "Name of the wind Patrich Rothfuss\n"
     ]
    }
   ],
   "source": [
    "struct Book:\n",
    "    var title: String\n",
    "    var author: String\n",
    "    fn __init__(inout self, title:String,author:String):\n",
    "        self.title=title\n",
    "        self.author=author\n",
    "    fn __copyinit__(inout self,existing: Self):\n",
    "        self.title=existing.title\n",
    "        self.author=existing.author\n",
    "\n",
    "    fn details(self):\n",
    "        print(self.title,self.author)\n",
    "\n",
    "var originalbook= Book(\"Name of the wind\",\"Patrick Rothfuss\")\n",
    "var copiedbook=originalbook\n",
    "copiedbook.details()"
   ]
  },
  {
   "cell_type": "code",
   "execution_count": 1,
   "metadata": {},
   "outputs": [],
   "source": []
  },
  {
   "cell_type": "code",
   "execution_count": 5,
   "metadata": {},
   "outputs": [
    {
     "name": "stdout",
     "output_type": "stream",
     "text": [
      "3 DOG woof\n"
     ]
    }
   ],
   "source": [
    "struct Animal:\n",
    "    var age:Int\n",
    "    var species: String\n",
    "    var sound : StringLiteral\n",
    "\n",
    "    fn __init__(inout self,age:Int, species:String,sound :StringLiteral):\n",
    "        self.age=age\n",
    "        self.species=species\n",
    "        self.sound=sound\n",
    "    fn printprops(self):\n",
    "        print(self.age,self.species,self.sound)\n",
    "\n",
    "var dog=Animal(3,\"DOG\",\"woof\")\n",
    "var cat=Animal(2,\"CAT\",\"meow\")\n",
    "dog.printprops()"
   ]
  },
  {
   "cell_type": "code",
   "execution_count": 3,
   "metadata": {},
   "outputs": [
    {
     "name": "stdout",
     "output_type": "stream",
     "text": [
      "Quack\n",
      "Moo\n"
     ]
    }
   ],
   "source": [
    "@value\n",
    "struct Duck:\n",
    "    fn quack(self):\n",
    "        print(\"Quack\")\n",
    "@value\n",
    "struct StealthCow:\n",
    "    fn quack(self):\n",
    "        print(\"Moo\")\n",
    "\n",
    "fn make_it_quack(definitely_a_quack:Duck):\n",
    "    definitely_a_quack.quack()\n",
    "\n",
    "fn make_it_quack(not_a_duck:StealthCow):\n",
    "    not_a_duck.quack()\n",
    "\n",
    "\n",
    "make_it_quack(Duck())\n",
    "make_it_quack(StealthCow())"
   ]
  },
  {
   "cell_type": "markdown",
   "metadata": {},
   "source": [
    "DAY2 questions\n"
   ]
  },
  {
   "cell_type": "code",
   "execution_count": 4,
   "metadata": {},
   "outputs": [
    {
     "name": "stdout",
     "output_type": "stream",
     "text": [
      "120\n"
     ]
    }
   ],
   "source": [
    "#q1\n",
    "fn factorial(n:Int)->Int:\n",
    "    if (n==1):\n",
    "        return 1\n",
    "    else:\n",
    "         return n*factorial(n-1)\n",
    "print(factorial(5))"
   ]
  },
  {
   "cell_type": "code",
   "execution_count": 3,
   "metadata": {},
   "outputs": [
    {
     "name": "stdout",
     "output_type": "stream",
     "text": [
      "error: \u001b[0;1;31m\u001b[1mExpression [3]:5:5: \u001b[0m\u001b[1munexpected token in expression\n",
      "\u001b[0m    global \n",
      "\u001b[0;1;32m    ^\n",
      "\u001b[0m\u001b[0m"
     ]
    },
    {
     "name": "stderr",
     "output_type": "stream",
     "text": [
      "expression failed to parse (no further compiler diagnostics)"
     ]
    }
   ],
   "source": [
    "#Q2\n",
    "var globalvar=1\n",
    "\n",
    "def access():\n",
    "    global \n",
    "    print(globalvar)\n",
    "access()"
   ]
  },
  {
   "cell_type": "code",
   "execution_count": 11,
   "metadata": {},
   "outputs": [
    {
     "name": "stdout",
     "output_type": "stream",
     "text": [
      "addition 15\n",
      "multiplication 50\n",
      "new call\n",
      "addition 20\n",
      "multiplication 100\n"
     ]
    }
   ],
   "source": [
    "#Q3\n",
    "fn mathoperation(x:Int=5,y:Int =10):\n",
    "    print(\"addition\",x+y)\n",
    "    print(\"multiplication\",x*y)\n",
    "mathoperation()\n",
    "print(\"new call\")\n",
    "mathoperation(10,10)"
   ]
  },
  {
   "cell_type": "code",
   "execution_count": 5,
   "metadata": {},
   "outputs": [
    {
     "name": "stdout",
     "output_type": "stream",
     "text": [
      "Initial value of variables 10 20\n",
      "45\n",
      "Variables in main now 19 26\n",
      "value in borrow function 10 63\n",
      "73\n",
      "value outside borrow function 19 26\n"
     ]
    }
   ],
   "source": [
    "#Q4\n",
    "def addnuminout(inout x:Int,inout y:Int):\n",
    "    x=19;y=26\n",
    "    return x+y\n",
    "a=10;b=20\n",
    "print(\"Initial value of variables\",a,b)\n",
    "print(addnuminout(a,b))\n",
    "print(\"Variables in main now\",a,b)\n",
    "\n",
    "def addnumborrow(borrowed x:Int,borrowed y:Int):\n",
    "    x=10;y=63\n",
    "    print(\"value in borrow function\",x,y)\n",
    "    return x+y\n",
    "print(addnumborrow(a,b))\n",
    "print(\"value outside borrow function\",a,b)\n"
   ]
  },
  {
   "cell_type": "code",
   "execution_count": 21,
   "metadata": {},
   "outputs": [
    {
     "name": "stdout",
     "output_type": "stream",
     "text": [
      "Student details are:\n",
      "richard E\n"
     ]
    }
   ],
   "source": [
    "#Q5\n",
    "struct student:\n",
    "    var name:String\n",
    "    var section:String\n",
    "    def __init__(inout self, name:String,section:String):\n",
    "        self.name=name\n",
    "        self.section=section\n",
    "    def printdetails(self):\n",
    "        print(\"Student details are:\")\n",
    "        print(self.name,self.section)\n",
    "\n",
    "var stud=student(\"richard\",\"E\")\n",
    "stud.printdetails()"
   ]
  },
  {
   "cell_type": "code",
   "execution_count": 7,
   "metadata": {},
   "outputs": [
    {
     "name": "stdout",
     "output_type": "stream",
     "text": [
      "Deez table created.\n",
      "Destructor called, Deez table deleted.\n"
     ]
    }
   ],
   "source": [
    "\n",
    "#Q6\n",
    "struct Deez:\n",
    "       # Initializing\n",
    "      #name:String =\"richard\"\n",
    "       def __init__(inout self):\n",
    "             print('Deez table created.')\n",
    "\n",
    "       # Deleting (Calling destructor)\n",
    "       fn __del__(owned self):\n",
    "             print('Destructor called, Deez table deleted.')\n",
    "\n",
    "def check():\n",
    "      deeztry=Deez()\n",
    "check()\n"
   ]
  },
  {
   "cell_type": "code",
   "execution_count": 30,
   "metadata": {},
   "outputs": [
    {
     "name": "stdout",
     "output_type": "stream",
     "text": [
      "Loki\n",
      "Destruct Loki\n",
      "Destruct Charlie\n",
      "Sylvie\n",
      "Destruct Sylvie\n"
     ]
    }
   ],
   "source": [
    "@value\n",
    "struct MyPet:\n",
    "    var name: String\n",
    "    var age: Int\n",
    "\n",
    "    fn __del__(owned self):\n",
    "        print(\"Destruct\", self.name)\n",
    "\n",
    "fn pets():\n",
    "    var a = MyPet(\"Loki\", 4)\n",
    "    var b = MyPet(\"Sylvie\", 2)\n",
    "    print(a.name)\n",
    "    # a.__del__() runs here for \"Loki\"\n",
    "\n",
    "    a = MyPet(\"Charlie\", 8)\n",
    "    # a.__del__() runs immediately because \"Charlie\" is never used\n",
    "\n",
    "    print(b.name)\n",
    "    # b.__del__() runs here\n",
    "\n",
    "pets()"
   ]
  }
 ],
 "metadata": {
  "kernelspec": {
   "display_name": "Mojo",
   "language": "mojo",
   "name": "mojo-jupyter-kernel"
  },
  "language_info": {
   "codemirror_mode": {
    "name": "mojo"
   },
   "file_extension": ".mojo",
   "mimetype": "text/x-mojo",
   "name": "mojo"
  }
 },
 "nbformat": 4,
 "nbformat_minor": 2
}
